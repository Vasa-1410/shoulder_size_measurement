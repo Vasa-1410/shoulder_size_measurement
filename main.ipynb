{
 "cells": [
  {
   "cell_type": "markdown",
   "metadata": {},
   "source": [
    "# 0. Install and Import Dependencies"
   ]
  },
  {
   "cell_type": "code",
   "execution_count": null,
   "metadata": {},
   "outputs": [],
   "source": [
    "!pip install tensorflow==2.4.1 tensorflow-gpu==2.4.1 opencv-python matplotlib"
   ]
  },
  {
   "cell_type": "code",
   "execution_count": 1,
   "metadata": {},
   "outputs": [],
   "source": [
    "import tensorflow as tf\n",
    "import numpy as np\n",
    "from matplotlib import pyplot as plt\n",
    "import cv2"
   ]
  },
  {
   "cell_type": "markdown",
   "metadata": {},
   "source": [
    "# 1. Load Model"
   ]
  },
  {
   "cell_type": "code",
   "execution_count": 2,
   "metadata": {},
   "outputs": [],
   "source": [
    "interpreter = tf.lite.Interpreter(model_path='D:\\deep_learning\\movenet\\movenet.tflite')\n",
    "interpreter.allocate_tensors()"
   ]
  },
  {
   "cell_type": "code",
   "execution_count": 3,
   "metadata": {},
   "outputs": [],
   "source": [
    "import cvzone\n",
    "from cvzone.FaceMeshModule import FaceMeshDetector\n",
    "\n",
    "cap = cv2.VideoCapture(0)\n",
    "detector = FaceMeshDetector(maxFaces=1)"
   ]
  },
  {
   "cell_type": "markdown",
   "metadata": {},
   "source": [
    "# 2. Make Detections"
   ]
  },
  {
   "cell_type": "code",
   "execution_count": 22,
   "metadata": {},
   "outputs": [],
   "source": [
    "cap = cv2.VideoCapture(0)\n",
    "while cap.isOpened():\n",
    "    ret, frame = cap.read()\n",
    "    success, img = cap.read()\n",
    "    frame, faces = detector.findFaceMesh(frame, draw=False)\n",
    "    # print(success)\n",
    "    # Reshape image\n",
    "    img = frame.copy()\n",
    "    img = tf.image.resize_with_pad(np.expand_dims(img, axis=0), 192,192)\n",
    "    input_image = tf.cast(img, dtype=tf.float32)\n",
    "    \n",
    "    # Setup input and output \n",
    "    input_details = interpreter.get_input_details()\n",
    "    output_details = interpreter.get_output_details()\n",
    "    \n",
    "    # Make predictions \n",
    "    interpreter.set_tensor(input_details[0]['index'], np.array(input_image))\n",
    "    interpreter.invoke()\n",
    "    keypoints_with_scores = interpreter.get_tensor(output_details[0]['index'])\n",
    "    if faces:\n",
    "        face = faces[0]\n",
    "        pointLeft = face[145]\n",
    "        pointRight = face[374]\n",
    "        # Drawing\n",
    "        # cv2.line(img, pointLeft, pointRight, (0, 200, 0), 3)\n",
    "        # cv2.circle(img, pointLeft, 5, (255, 0, 255), cv2.FILLED)\n",
    "        # cv2.circle(img, pointRight, 5, (255, 0, 255), cv2.FILLED)\n",
    "        w, _ = detector.findDistance(pointLeft, pointRight)\n",
    "        W = 6.3\n",
    "\n",
    "        # # Finding the Focal Length\n",
    "        # d = 50\n",
    "        # f = (w*d)/W\n",
    "        # print(f)\n",
    "\n",
    "        # Finding distance\n",
    "        f = 750\n",
    "        # print(d)\n",
    "        dist = shoulder_dist(keypoints_with_scores,0)\n",
    "        # print(dist)\n",
    "        dist = list(dist)\n",
    "        dist = int(dist[0])\n",
    "        \n",
    "        # should, _ = detector.findDistance(pointLeft, pointRight)\n",
    "        d = (W * dist) / w\n",
    "\n",
    "\n",
    "        cvzone.putTextRect(frame, f'Shoulder width: {int(d)}cm',\n",
    "                           (face[10][0] - 100, face[10][1] - 50),\n",
    "                           scale=2)\n",
    "\n",
    "    \n",
    "    \n",
    "    \n",
    "\n",
    "    # Rendering \n",
    "    draw_connections(frame, keypoints_with_scores, EDGES, 0.7)\n",
    "    draw_keypoints(frame, keypoints_with_scores, 0.4)\n",
    "    \n",
    "    cv2.imshow('MoveNet Lightning', frame)\n",
    "    \n",
    "    if cv2.waitKey(10) & 0xFF==ord('q'):\n",
    "        break\n",
    "        \n",
    "cap.release()\n",
    "cv2.destroyAllWindows()"
   ]
  },
  {
   "cell_type": "code",
   "execution_count": 21,
   "metadata": {},
   "outputs": [
    {
     "name": "stdout",
     "output_type": "stream",
     "text": [
      "338\n"
     ]
    }
   ],
   "source": [
    "dist = list(dist)\n",
    "print(int(dist[0]))\n"
   ]
  },
  {
   "cell_type": "code",
   "execution_count": 23,
   "metadata": {},
   "outputs": [
    {
     "name": "stdout",
     "output_type": "stream",
     "text": [
      "480 640\n"
     ]
    }
   ],
   "source": [
    "y, x, c = frame.shape\n",
    "shaped = np.squeeze(np.multiply(keypoints_with_scores, [y,x,1]))\n",
    "shaped\n",
    "print(y,x)"
   ]
  },
  {
   "cell_type": "code",
   "execution_count": 16,
   "metadata": {},
   "outputs": [
    {
     "name": "stdout",
     "output_type": "stream",
     "text": [
      "None\n"
     ]
    }
   ],
   "source": [
    "dist = shoulder_dist(keypoints_with_scores,0.5)\n",
    "print(dist)"
   ]
  },
  {
   "cell_type": "code",
   "execution_count": 13,
   "metadata": {},
   "outputs": [],
   "source": [
    "def shoulder_dist(keypoints_with_scores,confidence_threshold):\n",
    "    left = np.squeeze(np.multiply(keypoints_with_scores[0][0][5],[480,640,1]))\n",
    "    right = np.squeeze(np.multiply(keypoints_with_scores[0][0][6],[480,640,1]))\n",
    "    y_l, x_l, conf_left = left\n",
    "    y_r, x_r, conf_right = right\n",
    "    l = [int(y_l),int(x_l)]\n",
    "    r = [int(y_r),int(x_r)]\n",
    "    dist = detector.findDistance(l, r)\n",
    "\n",
    "    if (conf_left > confidence_threshold) & (conf_right > confidence_threshold):\n",
    "        return dist\n"
   ]
  },
  {
   "cell_type": "code",
   "execution_count": 28,
   "metadata": {},
   "outputs": [
    {
     "name": "stdout",
     "output_type": "stream",
     "text": [
      "[299, 276]\n"
     ]
    }
   ],
   "source": [
    "print(pointLeft)"
   ]
  },
  {
   "cell_type": "code",
   "execution_count": 10,
   "metadata": {},
   "outputs": [
    {
     "name": "stdout",
     "output_type": "stream",
     "text": [
      "[420, 405] [424, 222]\n"
     ]
    },
    {
     "data": {
      "text/plain": [
       "(183.04371062672436, (420, 405, 424, 222, 422, 313))"
      ]
     },
     "execution_count": 10,
     "metadata": {},
     "output_type": "execute_result"
    }
   ],
   "source": [
    "left = np.squeeze(np.multiply(keypoints_with_scores[0][0][5],[480,640,1]))\n",
    "right = np.squeeze(np.multiply(keypoints_with_scores[0][0][6],[480,640,1]))\n",
    "y_l, x_l, conf_left = left\n",
    "y_r, x_r, conf_right = right\n",
    "l = [int(y_l),int(x_l)]\n",
    "r = [int(y_r),int(x_r)]\n",
    "print(l,r)\n",
    "dist = detector.findDistance(l, r)\n",
    "dist"
   ]
  },
  {
   "cell_type": "code",
   "execution_count": 26,
   "metadata": {},
   "outputs": [
    {
     "name": "stdout",
     "output_type": "stream",
     "text": [
      "[0.7652805  0.22074513 0.6345438 ]\n",
      "(357, 537)\n"
     ]
    }
   ],
   "source": [
    "kp = np.squeeze(np.multiply(keypoints_with_scores[0][0][5],[480,640,1]))\n",
    "print(keypoints_with_scores[0][0][6])\n",
    "ky, kx, kp_conf = kp\n",
    "print((int(ky),int(kx)))\n",
    "dist = detector.findDistance(pointLeft, )\n"
   ]
  },
  {
   "cell_type": "markdown",
   "metadata": {},
   "source": [
    "# 3. Draw Keypoints"
   ]
  },
  {
   "cell_type": "code",
   "execution_count": 5,
   "metadata": {},
   "outputs": [],
   "source": [
    "def draw_keypoints(frame, keypoints, confidence_threshold):\n",
    "    y, x, c = frame.shape\n",
    "    shaped = np.squeeze(np.multiply(keypoints, [y,x,1]))\n",
    "    count = 0\n",
    "    for kp in shaped:\n",
    "\n",
    "        ky, kx, kp_conf = kp\n",
    "        if count == 5 or count == 6:\n",
    "            if kp_conf > confidence_threshold:\n",
    "                cv2.circle(frame, (int(kx), int(ky)), 4, (0,255,0), -1) \n",
    "        count+=1"
   ]
  },
  {
   "cell_type": "markdown",
   "metadata": {},
   "source": [
    "# 4. Draw Edges"
   ]
  },
  {
   "cell_type": "code",
   "execution_count": 6,
   "metadata": {},
   "outputs": [],
   "source": [
    "EDGES = {\n",
    "  \n",
    "    (5, 6): 'y'\n",
    "\n",
    "}"
   ]
  },
  {
   "cell_type": "code",
   "execution_count": 7,
   "metadata": {},
   "outputs": [],
   "source": [
    "def draw_connections(frame, keypoints, edges, confidence_threshold):\n",
    "    y, x, c = frame.shape\n",
    "    shaped = np.squeeze(np.multiply(keypoints, [y,x,1]))\n",
    "    \n",
    "    for edge, color in edges.items():\n",
    "        p1, p2 = edge\n",
    "        y1, x1, c1 = shaped[p1]\n",
    "        y2, x2, c2 = shaped[p2]\n",
    "        \n",
    "        if (c1 > confidence_threshold) & (c2 > confidence_threshold):      \n",
    "            cv2.line(frame, (int(x1), int(y1)), (int(x2), int(y2)), (0,0,255), 2)"
   ]
  }
 ],
 "metadata": {
  "kernelspec": {
   "display_name": "Python 3",
   "language": "python",
   "name": "python3"
  },
  "language_info": {
   "codemirror_mode": {
    "name": "ipython",
    "version": 3
   },
   "file_extension": ".py",
   "mimetype": "text/x-python",
   "name": "python",
   "nbconvert_exporter": "python",
   "pygments_lexer": "ipython3",
   "version": "3.9.10"
  }
 },
 "nbformat": 4,
 "nbformat_minor": 2
}
